{
 "cells": [
  {
   "cell_type": "markdown",
   "id": "1687590e-667e-4631-8b82-e054a9df5a43",
   "metadata": {},
   "source": [
    "# Limpieza de Datos\n",
    "\n",
    "Del Analisis de los datos del Notebook \"Analisis\" se identifican que el dataset es complejo, con multiples informacion en su tabla, por lo se realizará una extracción de solo los datos necesarios para el analisis."
   ]
  },
  {
   "cell_type": "markdown",
   "id": "842dd0c8-6b1c-44ed-b2fe-ec136faac2e2",
   "metadata": {},
   "source": []
  }
 ],
 "metadata": {
  "kernelspec": {
   "display_name": "Python 3 (ipykernel)",
   "language": "python",
   "name": "python3"
  },
  "language_info": {
   "codemirror_mode": {
    "name": "ipython",
    "version": 3
   },
   "file_extension": ".py",
   "mimetype": "text/x-python",
   "name": "python",
   "nbconvert_exporter": "python",
   "pygments_lexer": "ipython3",
   "version": "3.12.4"
  }
 },
 "nbformat": 4,
 "nbformat_minor": 5
}
