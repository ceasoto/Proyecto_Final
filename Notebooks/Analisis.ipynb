{
 "cells": [
  {
   "cell_type": "markdown",
   "id": "1b8fae37-8171-48f0-815c-1605d142b2a7",
   "metadata": {},
   "source": [
    "# Analisis de los datos\n",
    "\n",
    "## Data Set Seleccionado\n",
    "Se selecciona un data set de la Agencia internaciona de Energia con información relacionada con la vehiculos electricos. Se debe analizar la composicion del data set para identificar las columnas y varibles incluidas."
   ]
  },
  {
   "cell_type": "code",
   "execution_count": 3,
   "id": "2624f035-873f-48c0-b9bd-8142b46cc6f0",
   "metadata": {
    "scrolled": true
   },
   "outputs": [
    {
     "name": "stdout",
     "output_type": "stream",
     "text": [
      "Tamaño del DataFrame: (12654, 8)\n"
     ]
    },
    {
     "data": {
      "text/html": [
       "<div>\n",
       "<style scoped>\n",
       "    .dataframe tbody tr th:only-of-type {\n",
       "        vertical-align: middle;\n",
       "    }\n",
       "\n",
       "    .dataframe tbody tr th {\n",
       "        vertical-align: top;\n",
       "    }\n",
       "\n",
       "    .dataframe thead th {\n",
       "        text-align: right;\n",
       "    }\n",
       "</style>\n",
       "<table border=\"1\" class=\"dataframe\">\n",
       "  <thead>\n",
       "    <tr style=\"text-align: right;\">\n",
       "      <th></th>\n",
       "      <th>region</th>\n",
       "      <th>category</th>\n",
       "      <th>parameter</th>\n",
       "      <th>mode</th>\n",
       "      <th>powertrain</th>\n",
       "      <th>year</th>\n",
       "      <th>unit</th>\n",
       "      <th>value</th>\n",
       "    </tr>\n",
       "  </thead>\n",
       "  <tbody>\n",
       "    <tr>\n",
       "      <th>0</th>\n",
       "      <td>Australia</td>\n",
       "      <td>Historical</td>\n",
       "      <td>EV stock share</td>\n",
       "      <td>Cars</td>\n",
       "      <td>EV</td>\n",
       "      <td>2011</td>\n",
       "      <td>percent</td>\n",
       "      <td>0.00039</td>\n",
       "    </tr>\n",
       "    <tr>\n",
       "      <th>1</th>\n",
       "      <td>Australia</td>\n",
       "      <td>Historical</td>\n",
       "      <td>EV sales share</td>\n",
       "      <td>Cars</td>\n",
       "      <td>EV</td>\n",
       "      <td>2011</td>\n",
       "      <td>percent</td>\n",
       "      <td>0.00650</td>\n",
       "    </tr>\n",
       "    <tr>\n",
       "      <th>2</th>\n",
       "      <td>Australia</td>\n",
       "      <td>Historical</td>\n",
       "      <td>EV sales</td>\n",
       "      <td>Cars</td>\n",
       "      <td>BEV</td>\n",
       "      <td>2011</td>\n",
       "      <td>Vehicles</td>\n",
       "      <td>49.00000</td>\n",
       "    </tr>\n",
       "    <tr>\n",
       "      <th>3</th>\n",
       "      <td>Australia</td>\n",
       "      <td>Historical</td>\n",
       "      <td>EV stock</td>\n",
       "      <td>Cars</td>\n",
       "      <td>BEV</td>\n",
       "      <td>2011</td>\n",
       "      <td>Vehicles</td>\n",
       "      <td>49.00000</td>\n",
       "    </tr>\n",
       "    <tr>\n",
       "      <th>4</th>\n",
       "      <td>Australia</td>\n",
       "      <td>Historical</td>\n",
       "      <td>EV stock</td>\n",
       "      <td>Cars</td>\n",
       "      <td>BEV</td>\n",
       "      <td>2012</td>\n",
       "      <td>Vehicles</td>\n",
       "      <td>220.00000</td>\n",
       "    </tr>\n",
       "  </tbody>\n",
       "</table>\n",
       "</div>"
      ],
      "text/plain": [
       "      region    category       parameter  mode powertrain  year      unit  \\\n",
       "0  Australia  Historical  EV stock share  Cars         EV  2011   percent   \n",
       "1  Australia  Historical  EV sales share  Cars         EV  2011   percent   \n",
       "2  Australia  Historical        EV sales  Cars        BEV  2011  Vehicles   \n",
       "3  Australia  Historical        EV stock  Cars        BEV  2011  Vehicles   \n",
       "4  Australia  Historical        EV stock  Cars        BEV  2012  Vehicles   \n",
       "\n",
       "       value  \n",
       "0    0.00039  \n",
       "1    0.00650  \n",
       "2   49.00000  \n",
       "3   49.00000  \n",
       "4  220.00000  "
      ]
     },
     "execution_count": 3,
     "metadata": {},
     "output_type": "execute_result"
    }
   ],
   "source": [
    "import pandas as pd\n",
    "import matplotlib.pyplot as plt\n",
    "\n",
    "# Especifica la ruta al archivo CSV\n",
    "file_path = '../Data/IEAGlobalEVData2024.csv'\n",
    "\n",
    "# Lee el archivo CSV\n",
    "df = pd.read_csv(file_path)\n",
    "print(\"Tamaño del DataFrame:\", df.shape)\n",
    "df.head()\n"
   ]
  },
  {
   "cell_type": "markdown",
   "id": "8648fd87-d51e-43b0-9c59-3d13643c42d5",
   "metadata": {},
   "source": [
    "## Revisió General de las Columnas"
   ]
  },
  {
   "cell_type": "code",
   "execution_count": 4,
   "id": "66029c04-6448-4929-b791-c387334b7e92",
   "metadata": {},
   "outputs": [
    {
     "name": "stdout",
     "output_type": "stream",
     "text": [
      "<class 'pandas.core.frame.DataFrame'>\n",
      "RangeIndex: 12654 entries, 0 to 12653\n",
      "Data columns (total 8 columns):\n",
      " #   Column      Non-Null Count  Dtype  \n",
      "---  ------      --------------  -----  \n",
      " 0   region      12654 non-null  object \n",
      " 1   category    12654 non-null  object \n",
      " 2   parameter   12654 non-null  object \n",
      " 3   mode        12654 non-null  object \n",
      " 4   powertrain  12654 non-null  object \n",
      " 5   year        12654 non-null  int64  \n",
      " 6   unit        12654 non-null  object \n",
      " 7   value       12654 non-null  float64\n",
      "dtypes: float64(1), int64(1), object(6)\n",
      "memory usage: 791.0+ KB\n"
     ]
    }
   ],
   "source": [
    "df.info()"
   ]
  },
  {
   "cell_type": "markdown",
   "id": "cc4d9177-a702-4f76-90e1-d8fdfcf995c6",
   "metadata": {},
   "source": [
    "### Descripcion de las columnas\n",
    "\n",
    "El data set se comppone de 8 columnas con la siguiente información estimada post previsualización:\n",
    "- Region: Variable categorica del tipo string con información del País\n",
    "- Category: Variable categorica del tipo string con información que indica el tipo de dato, si es historico u otra categoria.\n",
    "- Parameter: Variable categorica del tipo string con información que indica el tipo de dato, representa si son ventas, estock y participación en el mercado.\n",
    "- Mode: Variable categorica del tipo string con información de si la información esta relacionada con que tipo de vehiculo.\n",
    "- Powetrain: Variable categorica del tipo string con información de si la información esta relacionada con la sub categoria de vehiculos electricos.\n",
    "- Year: Variable numerica del tipo entero que indica el año al que pertenece la información.\n",
    "- Unit: Variable del tipo categoricadel tipo string que indica el unidad de medida del dato.\n",
    "- Value: Vatriable numerica del tipo foat que entrega el valor numerico de la medición."
   ]
  },
  {
   "cell_type": "markdown",
   "id": "b43f7856-783a-4cfa-8792-f0454a2f0680",
   "metadata": {},
   "source": [
    "## Revisón Detallada de Columnas\n",
    "\n",
    "A continuación se realizará una revisión detallada de las columnas categoricas para identificar su composición"
   ]
  },
  {
   "cell_type": "code",
   "execution_count": 5,
   "id": "c68ce120-725a-43c2-9813-81cc6264bfb9",
   "metadata": {},
   "outputs": [
    {
     "data": {
      "text/plain": [
       "region\n",
       "World                   1250\n",
       "Europe                  1234\n",
       "China                   1138\n",
       "Rest of the world        954\n",
       "USA                      737\n",
       "India                    702\n",
       "EU27                     424\n",
       "Netherlands              358\n",
       "France                   358\n",
       "United Kingdom           345\n",
       "Denmark                  319\n",
       "Belgium                  310\n",
       "Germany                  298\n",
       "Norway                   270\n",
       "Sweden                   269\n",
       "Japan                    260\n",
       "Switzerland              245\n",
       "Spain                    245\n",
       "Canada                   240\n",
       "Italy                    230\n",
       "Korea                    209\n",
       "Finland                  200\n",
       "Poland                   194\n",
       "Portugal                 189\n",
       "New Zealand              185\n",
       "Brazil                   183\n",
       "Israel                   148\n",
       "Austria                  116\n",
       "Iceland                  115\n",
       "Chile                    103\n",
       "Australia                 94\n",
       "Mexico                    87\n",
       "Greece                    83\n",
       "South Africa              83\n",
       "Turkiye                   83\n",
       "Latvia                    27\n",
       "Hungary                   27\n",
       "Ireland                   27\n",
       "Colombia                  27\n",
       "Costa Rica                27\n",
       "Bulgaria                  25\n",
       "Estonia                   25\n",
       "Czech Republic            24\n",
       "Slovenia                  24\n",
       "Slovakia                  23\n",
       "Romania                   19\n",
       "Lithuania                 19\n",
       "Seychelles                18\n",
       "United Arab Emirates      18\n",
       "Luxembourg                15\n",
       "Croatia                   15\n",
       "Thailand                  14\n",
       "Cyprus                    14\n",
       "Indonesia                  8\n",
       "Name: count, dtype: int64"
      ]
     },
     "execution_count": 5,
     "metadata": {},
     "output_type": "execute_result"
    }
   ],
   "source": [
    "frecuencia_valores = df['region'].value_counts()\n",
    "frecuencia_valores"
   ]
  },
  {
   "cell_type": "code",
   "execution_count": 24,
   "id": "57caf182-8525-4e46-a15f-9b8eb914f826",
   "metadata": {},
   "outputs": [
    {
     "data": {
      "text/plain": [
       "category\n",
       "Historical          9174\n",
       "Projection-APS      1742\n",
       "Projection-STEPS    1738\n",
       "Name: count, dtype: int64"
      ]
     },
     "execution_count": 24,
     "metadata": {},
     "output_type": "execute_result"
    }
   ],
   "source": [
    "df['category'].value_counts()\n"
   ]
  },
  {
   "cell_type": "code",
   "execution_count": 30,
   "id": "1ad9589d-887e-4294-83cf-65b55045dac0",
   "metadata": {},
   "outputs": [
    {
     "data": {
      "text/plain": [
       "parameter\n",
       "EV stock                         3470\n",
       "EV sales                         3372\n",
       "EV sales share                   1642\n",
       "EV stock share                   1529\n",
       "EV charging points                918\n",
       "Oil displacement Mbd              586\n",
       "Oil displacement, million lge     586\n",
       "Electricity demand                551\n",
       "Name: count, dtype: int64"
      ]
     },
     "execution_count": 30,
     "metadata": {},
     "output_type": "execute_result"
    }
   ],
   "source": [
    "df['parameter'].value_counts()"
   ]
  },
  {
   "cell_type": "code",
   "execution_count": 28,
   "id": "31a72d23-cd9a-486a-a840-a225a596dbd3",
   "metadata": {},
   "outputs": [
    {
     "data": {
      "text/plain": [
       "parameter\n",
       "EV stock                         3470\n",
       "EV sales                         3372\n",
       "EV sales share                   1642\n",
       "EV stock share                   1529\n",
       "EV charging points                918\n",
       "Oil displacement Mbd              586\n",
       "Oil displacement, million lge     586\n",
       "Electricity demand                551\n",
       "Name: count, dtype: int64"
      ]
     },
     "execution_count": 28,
     "metadata": {},
     "output_type": "execute_result"
    }
   ],
   "source": [
    "df['parameter'].value_counts()\n"
   ]
  },
  {
   "cell_type": "code",
   "execution_count": 32,
   "id": "635ba6d0-a859-4eef-aad5-7842d6ec3bb1",
   "metadata": {},
   "outputs": [
    {
     "data": {
      "text/plain": [
       "unit\n",
       "Vehicles                         6842\n",
       "percent                          3171\n",
       "charging points                   918\n",
       "Milion barrels per day            586\n",
       "Oil displacement, million lge     586\n",
       "GWh                               551\n",
       "Name: count, dtype: int64"
      ]
     },
     "execution_count": 32,
     "metadata": {},
     "output_type": "execute_result"
    }
   ],
   "source": [
    "df['unit'].value_counts()"
   ]
  },
  {
   "cell_type": "markdown",
   "id": "a9e34a2e-9906-4c9b-91ab-5f79ebf6efeb",
   "metadata": {},
   "source": [
    "Detalles:\n",
    "- De la columna region se puede identificar que la información se divide en 3 grupos principales: Valores Globales, Europa-EU27-resto del mundo, y un desgloce por pais.\n",
    "- La columna Category, se identifica dos grupos principales compuesto con valores historicos reales, mas el grupo de proyeciones compuestos por proyecciones STEP y APS (En readme se dejara descripción de este tipo de proyección)\n",
    "- La columna Parameter entrega información relacionada a diferentes parametros que se miden en general para la electromovilidad, dentro de los que se pueden encontrar el Stock de EV por años, Ventas de EV por año, porcentaje de Ventas y Stock, Numero de cargadores por año, combustible demandado y energya electrica demandada.\n",
    "- La columna Unit indica la unidad de medida de los valores de la columna \"Value\", donde los valores pueden ser cantidad de vehiculos, Porcentajes, Numero de puntos de carga, Millones de Barilles de combustible por dia, y GWH de energia electrica."
   ]
  },
  {
   "cell_type": "markdown",
   "id": "96fccff0-7c83-44f5-ade1-809207965c03",
   "metadata": {},
   "source": [
    "## Concluciones Generales del Data Set.\n",
    "\n",
    "  El data set contiene mucha información dentro del mismo dataset, el que podria ser separado en diferentes data frames para distintos analisis del comparamiento de la electromovilidad por region, ventas y proyecciones, comparaciones de las ventras vs las proyecciónes, si hay una relacion real en la instalacion de puntos de carga con respecto al numero de ventas y analizar como es el escenario de Chile comparado con el resto de latinoamerica y el mundo."
   ]
  },
  {
   "cell_type": "code",
   "execution_count": null,
   "id": "ba899866-2b96-4e68-b478-cac1a428fe30",
   "metadata": {},
   "outputs": [],
   "source": []
  }
 ],
 "metadata": {
  "kernelspec": {
   "display_name": "Python 3 (ipykernel)",
   "language": "python",
   "name": "python3"
  },
  "language_info": {
   "codemirror_mode": {
    "name": "ipython",
    "version": 3
   },
   "file_extension": ".py",
   "mimetype": "text/x-python",
   "name": "python",
   "nbconvert_exporter": "python",
   "pygments_lexer": "ipython3",
   "version": "3.12.4"
  }
 },
 "nbformat": 4,
 "nbformat_minor": 5
}
