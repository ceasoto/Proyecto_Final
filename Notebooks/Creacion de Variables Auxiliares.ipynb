{
 "cells": [
  {
   "cell_type": "code",
   "execution_count": null,
   "id": "e7ed2f44-1bfc-4663-a587-bb4f6505c050",
   "metadata": {},
   "outputs": [],
   "source": [
    "#Variables auxiliares\n",
    "\n",
    "  Con el fin de hacer una analisis mas detallado por continente, se generará una nueva variable categorica, donde los valores podran ser: Europa, Asia, Norte America, Latam (Sudamerica, Centro America y el Caribe) y africa. El objetivo es poder visua"
   ]
  }
 ],
 "metadata": {
  "kernelspec": {
   "display_name": "Python 3 (ipykernel)",
   "language": "python",
   "name": "python3"
  },
  "language_info": {
   "codemirror_mode": {
    "name": "ipython",
    "version": 3
   },
   "file_extension": ".py",
   "mimetype": "text/x-python",
   "name": "python",
   "nbconvert_exporter": "python",
   "pygments_lexer": "ipython3",
   "version": "3.12.4"
  }
 },
 "nbformat": 4,
 "nbformat_minor": 5
}
